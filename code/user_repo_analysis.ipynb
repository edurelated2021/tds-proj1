{
  "nbformat": 4,
  "nbformat_minor": 0,
  "metadata": {
    "colab": {
      "provenance": [],
      "authorship_tag": "ABX9TyO65/ETmKjS8AMqzy1XPuwz",
      "include_colab_link": true
    },
    "kernelspec": {
      "name": "python3",
      "display_name": "Python 3"
    },
    "language_info": {
      "name": "python"
    }
  },
  "cells": [
    {
      "cell_type": "markdown",
      "metadata": {
        "id": "view-in-github",
        "colab_type": "text"
      },
      "source": [
        "<a href=\"https://colab.research.google.com/github/edurelated2021/tds-proj1/blob/main/code/user_repo_analysis.ipynb\" target=\"_parent\"><img src=\"https://colab.research.google.com/assets/colab-badge.svg\" alt=\"Open In Colab\"/></a>"
      ]
    },
    {
      "cell_type": "markdown",
      "source": [
        "# Google colab notebook for TDS Project 1\n",
        "### **Prerequisites**: users.csv and repositories.csv files have been generated as part of the data scraping process"
      ],
      "metadata": {
        "id": "hi4aDGckIi3j"
      }
    },
    {
      "cell_type": "code",
      "source": [
        "import pandas as pd\n",
        "\n",
        "# Load the users from the csv file\n",
        "users_df = pd.read_csv('users.csv')\n",
        "\n",
        "# Load the repositories data from the csv file\n",
        "repositories_df = pd.read_csv('repositories.csv')\n",
        "\n",
        "# Display the first few rows of the users dataFrame to verify\n",
        "users_df.head()"
      ],
      "metadata": {
        "colab": {
          "base_uri": "https://localhost:8080/",
          "height": 417
        },
        "id": "HZxB2KGHlCH2",
        "outputId": "be357d85-1e25-49dc-aced-6194e0aec6ca"
      },
      "execution_count": 146,
      "outputs": [
        {
          "output_type": "execute_result",
          "data": {
            "text/plain": [
              "                login           name  \\\n",
              "0  Premalatha-success   Premalatha T   \n",
              "1          anitaa1990  Anitaa Murthy   \n",
              "2     codewithMUHILAN        ＭＵＨＩＬＡＮ   \n",
              "3              sygops           SYGK   \n",
              "4         Spikeysanju        Sanju S   \n",
              "\n",
              "                                             company        location  \\\n",
              "0  AI CONSULTANT/DATA SCIENTIST/TRAINER/FREELANCE...         Chennai   \n",
              "1                                                NaN         Chennai   \n",
              "2                                                NaN  chennai, india   \n",
              "3                                                NaN         Chennai   \n",
              "4                                           THISUXHQ  Chennai, India   \n",
              "\n",
              "                     email  hireable  \\\n",
              "0                      NaN     False   \n",
              "1   murthyanitaa@gmail.com      True   \n",
              "2                      NaN     False   \n",
              "3         sygops@gmail.com     False   \n",
              "4  spikeysanju98@gmail.com      True   \n",
              "\n",
              "                                                 bio  public_repos  followers  \\\n",
              "0                               Data Science Fanatic           137       2035   \n",
              "1                    Android Developer/iOS Developer            38       1945   \n",
              "2                          Love with my Passion...❤️             5       1837   \n",
              "3  Do what you feel in your heart to be right. Yo...           113       1815   \n",
              "4  Designer Founder @THISUXHQ | Google Developer ...            70       1297   \n",
              "\n",
              "   following            created_at  \n",
              "0          1  2020-01-13T14:41:16Z  \n",
              "1         12  2016-10-04T05:03:44Z  \n",
              "2          0  2023-07-10T05:30:12Z  \n",
              "3      10219  2015-12-30T12:32:19Z  \n",
              "4         24  2016-11-11T11:33:06Z  "
            ],
            "text/html": [
              "\n",
              "  <div id=\"df-15622e60-7739-4c90-b932-b95117eded36\" class=\"colab-df-container\">\n",
              "    <div>\n",
              "<style scoped>\n",
              "    .dataframe tbody tr th:only-of-type {\n",
              "        vertical-align: middle;\n",
              "    }\n",
              "\n",
              "    .dataframe tbody tr th {\n",
              "        vertical-align: top;\n",
              "    }\n",
              "\n",
              "    .dataframe thead th {\n",
              "        text-align: right;\n",
              "    }\n",
              "</style>\n",
              "<table border=\"1\" class=\"dataframe\">\n",
              "  <thead>\n",
              "    <tr style=\"text-align: right;\">\n",
              "      <th></th>\n",
              "      <th>login</th>\n",
              "      <th>name</th>\n",
              "      <th>company</th>\n",
              "      <th>location</th>\n",
              "      <th>email</th>\n",
              "      <th>hireable</th>\n",
              "      <th>bio</th>\n",
              "      <th>public_repos</th>\n",
              "      <th>followers</th>\n",
              "      <th>following</th>\n",
              "      <th>created_at</th>\n",
              "    </tr>\n",
              "  </thead>\n",
              "  <tbody>\n",
              "    <tr>\n",
              "      <th>0</th>\n",
              "      <td>Premalatha-success</td>\n",
              "      <td>Premalatha T</td>\n",
              "      <td>AI CONSULTANT/DATA SCIENTIST/TRAINER/FREELANCE...</td>\n",
              "      <td>Chennai</td>\n",
              "      <td>NaN</td>\n",
              "      <td>False</td>\n",
              "      <td>Data Science Fanatic</td>\n",
              "      <td>137</td>\n",
              "      <td>2035</td>\n",
              "      <td>1</td>\n",
              "      <td>2020-01-13T14:41:16Z</td>\n",
              "    </tr>\n",
              "    <tr>\n",
              "      <th>1</th>\n",
              "      <td>anitaa1990</td>\n",
              "      <td>Anitaa Murthy</td>\n",
              "      <td>NaN</td>\n",
              "      <td>Chennai</td>\n",
              "      <td>murthyanitaa@gmail.com</td>\n",
              "      <td>True</td>\n",
              "      <td>Android Developer/iOS Developer</td>\n",
              "      <td>38</td>\n",
              "      <td>1945</td>\n",
              "      <td>12</td>\n",
              "      <td>2016-10-04T05:03:44Z</td>\n",
              "    </tr>\n",
              "    <tr>\n",
              "      <th>2</th>\n",
              "      <td>codewithMUHILAN</td>\n",
              "      <td>ＭＵＨＩＬＡＮ</td>\n",
              "      <td>NaN</td>\n",
              "      <td>chennai, india</td>\n",
              "      <td>NaN</td>\n",
              "      <td>False</td>\n",
              "      <td>Love with my Passion...❤️</td>\n",
              "      <td>5</td>\n",
              "      <td>1837</td>\n",
              "      <td>0</td>\n",
              "      <td>2023-07-10T05:30:12Z</td>\n",
              "    </tr>\n",
              "    <tr>\n",
              "      <th>3</th>\n",
              "      <td>sygops</td>\n",
              "      <td>SYGK</td>\n",
              "      <td>NaN</td>\n",
              "      <td>Chennai</td>\n",
              "      <td>sygops@gmail.com</td>\n",
              "      <td>False</td>\n",
              "      <td>Do what you feel in your heart to be right. Yo...</td>\n",
              "      <td>113</td>\n",
              "      <td>1815</td>\n",
              "      <td>10219</td>\n",
              "      <td>2015-12-30T12:32:19Z</td>\n",
              "    </tr>\n",
              "    <tr>\n",
              "      <th>4</th>\n",
              "      <td>Spikeysanju</td>\n",
              "      <td>Sanju S</td>\n",
              "      <td>THISUXHQ</td>\n",
              "      <td>Chennai, India</td>\n",
              "      <td>spikeysanju98@gmail.com</td>\n",
              "      <td>True</td>\n",
              "      <td>Designer Founder @THISUXHQ | Google Developer ...</td>\n",
              "      <td>70</td>\n",
              "      <td>1297</td>\n",
              "      <td>24</td>\n",
              "      <td>2016-11-11T11:33:06Z</td>\n",
              "    </tr>\n",
              "  </tbody>\n",
              "</table>\n",
              "</div>\n",
              "    <div class=\"colab-df-buttons\">\n",
              "\n",
              "  <div class=\"colab-df-container\">\n",
              "    <button class=\"colab-df-convert\" onclick=\"convertToInteractive('df-15622e60-7739-4c90-b932-b95117eded36')\"\n",
              "            title=\"Convert this dataframe to an interactive table.\"\n",
              "            style=\"display:none;\">\n",
              "\n",
              "  <svg xmlns=\"http://www.w3.org/2000/svg\" height=\"24px\" viewBox=\"0 -960 960 960\">\n",
              "    <path d=\"M120-120v-720h720v720H120Zm60-500h600v-160H180v160Zm220 220h160v-160H400v160Zm0 220h160v-160H400v160ZM180-400h160v-160H180v160Zm440 0h160v-160H620v160ZM180-180h160v-160H180v160Zm440 0h160v-160H620v160Z\"/>\n",
              "  </svg>\n",
              "    </button>\n",
              "\n",
              "  <style>\n",
              "    .colab-df-container {\n",
              "      display:flex;\n",
              "      gap: 12px;\n",
              "    }\n",
              "\n",
              "    .colab-df-convert {\n",
              "      background-color: #E8F0FE;\n",
              "      border: none;\n",
              "      border-radius: 50%;\n",
              "      cursor: pointer;\n",
              "      display: none;\n",
              "      fill: #1967D2;\n",
              "      height: 32px;\n",
              "      padding: 0 0 0 0;\n",
              "      width: 32px;\n",
              "    }\n",
              "\n",
              "    .colab-df-convert:hover {\n",
              "      background-color: #E2EBFA;\n",
              "      box-shadow: 0px 1px 2px rgba(60, 64, 67, 0.3), 0px 1px 3px 1px rgba(60, 64, 67, 0.15);\n",
              "      fill: #174EA6;\n",
              "    }\n",
              "\n",
              "    .colab-df-buttons div {\n",
              "      margin-bottom: 4px;\n",
              "    }\n",
              "\n",
              "    [theme=dark] .colab-df-convert {\n",
              "      background-color: #3B4455;\n",
              "      fill: #D2E3FC;\n",
              "    }\n",
              "\n",
              "    [theme=dark] .colab-df-convert:hover {\n",
              "      background-color: #434B5C;\n",
              "      box-shadow: 0px 1px 3px 1px rgba(0, 0, 0, 0.15);\n",
              "      filter: drop-shadow(0px 1px 2px rgba(0, 0, 0, 0.3));\n",
              "      fill: #FFFFFF;\n",
              "    }\n",
              "  </style>\n",
              "\n",
              "    <script>\n",
              "      const buttonEl =\n",
              "        document.querySelector('#df-15622e60-7739-4c90-b932-b95117eded36 button.colab-df-convert');\n",
              "      buttonEl.style.display =\n",
              "        google.colab.kernel.accessAllowed ? 'block' : 'none';\n",
              "\n",
              "      async function convertToInteractive(key) {\n",
              "        const element = document.querySelector('#df-15622e60-7739-4c90-b932-b95117eded36');\n",
              "        const dataTable =\n",
              "          await google.colab.kernel.invokeFunction('convertToInteractive',\n",
              "                                                    [key], {});\n",
              "        if (!dataTable) return;\n",
              "\n",
              "        const docLinkHtml = 'Like what you see? Visit the ' +\n",
              "          '<a target=\"_blank\" href=https://colab.research.google.com/notebooks/data_table.ipynb>data table notebook</a>'\n",
              "          + ' to learn more about interactive tables.';\n",
              "        element.innerHTML = '';\n",
              "        dataTable['output_type'] = 'display_data';\n",
              "        await google.colab.output.renderOutput(dataTable, element);\n",
              "        const docLink = document.createElement('div');\n",
              "        docLink.innerHTML = docLinkHtml;\n",
              "        element.appendChild(docLink);\n",
              "      }\n",
              "    </script>\n",
              "  </div>\n",
              "\n",
              "\n",
              "<div id=\"df-a8158e12-a42d-4607-9c6e-208cdb648b22\">\n",
              "  <button class=\"colab-df-quickchart\" onclick=\"quickchart('df-a8158e12-a42d-4607-9c6e-208cdb648b22')\"\n",
              "            title=\"Suggest charts\"\n",
              "            style=\"display:none;\">\n",
              "\n",
              "<svg xmlns=\"http://www.w3.org/2000/svg\" height=\"24px\"viewBox=\"0 0 24 24\"\n",
              "     width=\"24px\">\n",
              "    <g>\n",
              "        <path d=\"M19 3H5c-1.1 0-2 .9-2 2v14c0 1.1.9 2 2 2h14c1.1 0 2-.9 2-2V5c0-1.1-.9-2-2-2zM9 17H7v-7h2v7zm4 0h-2V7h2v10zm4 0h-2v-4h2v4z\"/>\n",
              "    </g>\n",
              "</svg>\n",
              "  </button>\n",
              "\n",
              "<style>\n",
              "  .colab-df-quickchart {\n",
              "      --bg-color: #E8F0FE;\n",
              "      --fill-color: #1967D2;\n",
              "      --hover-bg-color: #E2EBFA;\n",
              "      --hover-fill-color: #174EA6;\n",
              "      --disabled-fill-color: #AAA;\n",
              "      --disabled-bg-color: #DDD;\n",
              "  }\n",
              "\n",
              "  [theme=dark] .colab-df-quickchart {\n",
              "      --bg-color: #3B4455;\n",
              "      --fill-color: #D2E3FC;\n",
              "      --hover-bg-color: #434B5C;\n",
              "      --hover-fill-color: #FFFFFF;\n",
              "      --disabled-bg-color: #3B4455;\n",
              "      --disabled-fill-color: #666;\n",
              "  }\n",
              "\n",
              "  .colab-df-quickchart {\n",
              "    background-color: var(--bg-color);\n",
              "    border: none;\n",
              "    border-radius: 50%;\n",
              "    cursor: pointer;\n",
              "    display: none;\n",
              "    fill: var(--fill-color);\n",
              "    height: 32px;\n",
              "    padding: 0;\n",
              "    width: 32px;\n",
              "  }\n",
              "\n",
              "  .colab-df-quickchart:hover {\n",
              "    background-color: var(--hover-bg-color);\n",
              "    box-shadow: 0 1px 2px rgba(60, 64, 67, 0.3), 0 1px 3px 1px rgba(60, 64, 67, 0.15);\n",
              "    fill: var(--button-hover-fill-color);\n",
              "  }\n",
              "\n",
              "  .colab-df-quickchart-complete:disabled,\n",
              "  .colab-df-quickchart-complete:disabled:hover {\n",
              "    background-color: var(--disabled-bg-color);\n",
              "    fill: var(--disabled-fill-color);\n",
              "    box-shadow: none;\n",
              "  }\n",
              "\n",
              "  .colab-df-spinner {\n",
              "    border: 2px solid var(--fill-color);\n",
              "    border-color: transparent;\n",
              "    border-bottom-color: var(--fill-color);\n",
              "    animation:\n",
              "      spin 1s steps(1) infinite;\n",
              "  }\n",
              "\n",
              "  @keyframes spin {\n",
              "    0% {\n",
              "      border-color: transparent;\n",
              "      border-bottom-color: var(--fill-color);\n",
              "      border-left-color: var(--fill-color);\n",
              "    }\n",
              "    20% {\n",
              "      border-color: transparent;\n",
              "      border-left-color: var(--fill-color);\n",
              "      border-top-color: var(--fill-color);\n",
              "    }\n",
              "    30% {\n",
              "      border-color: transparent;\n",
              "      border-left-color: var(--fill-color);\n",
              "      border-top-color: var(--fill-color);\n",
              "      border-right-color: var(--fill-color);\n",
              "    }\n",
              "    40% {\n",
              "      border-color: transparent;\n",
              "      border-right-color: var(--fill-color);\n",
              "      border-top-color: var(--fill-color);\n",
              "    }\n",
              "    60% {\n",
              "      border-color: transparent;\n",
              "      border-right-color: var(--fill-color);\n",
              "    }\n",
              "    80% {\n",
              "      border-color: transparent;\n",
              "      border-right-color: var(--fill-color);\n",
              "      border-bottom-color: var(--fill-color);\n",
              "    }\n",
              "    90% {\n",
              "      border-color: transparent;\n",
              "      border-bottom-color: var(--fill-color);\n",
              "    }\n",
              "  }\n",
              "</style>\n",
              "\n",
              "  <script>\n",
              "    async function quickchart(key) {\n",
              "      const quickchartButtonEl =\n",
              "        document.querySelector('#' + key + ' button');\n",
              "      quickchartButtonEl.disabled = true;  // To prevent multiple clicks.\n",
              "      quickchartButtonEl.classList.add('colab-df-spinner');\n",
              "      try {\n",
              "        const charts = await google.colab.kernel.invokeFunction(\n",
              "            'suggestCharts', [key], {});\n",
              "      } catch (error) {\n",
              "        console.error('Error during call to suggestCharts:', error);\n",
              "      }\n",
              "      quickchartButtonEl.classList.remove('colab-df-spinner');\n",
              "      quickchartButtonEl.classList.add('colab-df-quickchart-complete');\n",
              "    }\n",
              "    (() => {\n",
              "      let quickchartButtonEl =\n",
              "        document.querySelector('#df-a8158e12-a42d-4607-9c6e-208cdb648b22 button');\n",
              "      quickchartButtonEl.style.display =\n",
              "        google.colab.kernel.accessAllowed ? 'block' : 'none';\n",
              "    })();\n",
              "  </script>\n",
              "</div>\n",
              "\n",
              "    </div>\n",
              "  </div>\n"
            ],
            "application/vnd.google.colaboratory.intrinsic+json": {
              "type": "dataframe",
              "variable_name": "users_df",
              "summary": "{\n  \"name\": \"users_df\",\n  \"rows\": 419,\n  \"fields\": [\n    {\n      \"column\": \"login\",\n      \"properties\": {\n        \"dtype\": \"string\",\n        \"num_unique_values\": 419,\n        \"samples\": [\n          \"mindaslab\",\n          \"gauthking\",\n          \"shawshankkumar\"\n        ],\n        \"semantic_type\": \"\",\n        \"description\": \"\"\n      }\n    },\n    {\n      \"column\": \"name\",\n      \"properties\": {\n        \"dtype\": \"string\",\n        \"num_unique_values\": 415,\n        \"samples\": [\n          \"Jaison Fernando\",\n          \"Yash Bonde\",\n          \"Shakthi Kannan\"\n        ],\n        \"semantic_type\": \"\",\n        \"description\": \"\"\n      }\n    },\n    {\n      \"column\": \"company\",\n      \"properties\": {\n        \"dtype\": \"string\",\n        \"num_unique_values\": 212,\n        \"samples\": [\n          \"CLARIFAI\",\n          \"PANDOCORP\",\n          \"BEEZ INNOVATION LABS PVT. LTD\"\n        ],\n        \"semantic_type\": \"\",\n        \"description\": \"\"\n      }\n    },\n    {\n      \"column\": \"location\",\n      \"properties\": {\n        \"dtype\": \"category\",\n        \"num_unique_values\": 64,\n        \"samples\": [\n          \"Chennai, India / London, UK\",\n          \"chennai, Tamilnadu, India\",\n          \"Chennai\"\n        ],\n        \"semantic_type\": \"\",\n        \"description\": \"\"\n      }\n    },\n    {\n      \"column\": \"email\",\n      \"properties\": {\n        \"dtype\": \"category\",\n        \"num_unique_values\": 196,\n        \"samples\": [\n          \"msraj085@gmail.com\",\n          \"Belgin.confidential@gmail.com\",\n          \"shrikanthravi.me@gmail.com\"\n        ],\n        \"semantic_type\": \"\",\n        \"description\": \"\"\n      }\n    },\n    {\n      \"column\": \"hireable\",\n      \"properties\": {\n        \"dtype\": \"boolean\",\n        \"num_unique_values\": 2,\n        \"samples\": [\n          true,\n          false\n        ],\n        \"semantic_type\": \"\",\n        \"description\": \"\"\n      }\n    },\n    {\n      \"column\": \"bio\",\n      \"properties\": {\n        \"dtype\": \"string\",\n        \"num_unique_values\": 335,\n        \"samples\": [\n          \"Machine Learning Engineer @ PayPal\",\n          \"A passionate developer mainly focusing on web application dev with experience on Reactjs, Angular, NodeJs, PHP, Python, AWS and GCP.  Check my youtube channel.\"\n        ],\n        \"semantic_type\": \"\",\n        \"description\": \"\"\n      }\n    },\n    {\n      \"column\": \"public_repos\",\n      \"properties\": {\n        \"dtype\": \"number\",\n        \"std\": 64,\n        \"min\": 0,\n        \"max\": 601,\n        \"num_unique_values\": 157,\n        \"samples\": [\n          129,\n          155\n        ],\n        \"semantic_type\": \"\",\n        \"description\": \"\"\n      }\n    },\n    {\n      \"column\": \"followers\",\n      \"properties\": {\n        \"dtype\": \"number\",\n        \"std\": 223,\n        \"min\": 51,\n        \"max\": 2035,\n        \"num_unique_values\": 160,\n        \"samples\": [\n          111,\n          105\n        ],\n        \"semantic_type\": \"\",\n        \"description\": \"\"\n      }\n    },\n    {\n      \"column\": \"following\",\n      \"properties\": {\n        \"dtype\": \"number\",\n        \"std\": 1161,\n        \"min\": 0,\n        \"max\": 15756,\n        \"num_unique_values\": 181,\n        \"samples\": [\n          4,\n          51\n        ],\n        \"semantic_type\": \"\",\n        \"description\": \"\"\n      }\n    },\n    {\n      \"column\": \"created_at\",\n      \"properties\": {\n        \"dtype\": \"object\",\n        \"num_unique_values\": 419,\n        \"samples\": [\n          \"2010-02-18T18:00:38Z\",\n          \"2021-09-13T16:26:36Z\"\n        ],\n        \"semantic_type\": \"\",\n        \"description\": \"\"\n      }\n    }\n  ]\n}"
            }
          },
          "metadata": {},
          "execution_count": 146
        }
      ]
    },
    {
      "cell_type": "code",
      "source": [
        "repositories_df.head()"
      ],
      "metadata": {
        "colab": {
          "base_uri": "https://localhost:8080/",
          "height": 313
        },
        "id": "ZPrPAz-4oLpx",
        "outputId": "799b6c7a-b1b9-43db-a9b5-3397987666d2"
      },
      "execution_count": 129,
      "outputs": [
        {
          "output_type": "execute_result",
          "data": {
            "text/plain": [
              "                login                           full_name  \\\n",
              "0  Premalatha-success           Premalatha-success/charts   \n",
              "1  Premalatha-success  Premalatha-success/powerbi_webinar   \n",
              "2  Premalatha-success             Premalatha-success/AIPM   \n",
              "3  Premalatha-success           Premalatha-success/ML_syn   \n",
              "4  Premalatha-success              Premalatha-success/sql   \n",
              "\n",
              "             created_at  stargazers_count  watchers_count          language  \\\n",
              "0  2024-10-27T12:36:59Z                 0               1               NaN   \n",
              "1  2024-10-25T16:25:13Z                 0               1               NaN   \n",
              "2  2024-10-21T07:26:33Z                 0               1  Jupyter Notebook   \n",
              "3  2024-10-14T08:26:26Z                 0               1  Jupyter Notebook   \n",
              "4  2024-10-06T14:29:46Z                 0               1               NaN   \n",
              "\n",
              "   has_projects  has_wiki license_name  \n",
              "0          True      True          NaN  \n",
              "1          True      True          NaN  \n",
              "2          True      True          NaN  \n",
              "3          True      True          NaN  \n",
              "4          True      True          NaN  "
            ],
            "text/html": [
              "\n",
              "  <div id=\"df-5e265f6c-7c1b-4fc0-9d47-df361e183cdd\" class=\"colab-df-container\">\n",
              "    <div>\n",
              "<style scoped>\n",
              "    .dataframe tbody tr th:only-of-type {\n",
              "        vertical-align: middle;\n",
              "    }\n",
              "\n",
              "    .dataframe tbody tr th {\n",
              "        vertical-align: top;\n",
              "    }\n",
              "\n",
              "    .dataframe thead th {\n",
              "        text-align: right;\n",
              "    }\n",
              "</style>\n",
              "<table border=\"1\" class=\"dataframe\">\n",
              "  <thead>\n",
              "    <tr style=\"text-align: right;\">\n",
              "      <th></th>\n",
              "      <th>login</th>\n",
              "      <th>full_name</th>\n",
              "      <th>created_at</th>\n",
              "      <th>stargazers_count</th>\n",
              "      <th>watchers_count</th>\n",
              "      <th>language</th>\n",
              "      <th>has_projects</th>\n",
              "      <th>has_wiki</th>\n",
              "      <th>license_name</th>\n",
              "    </tr>\n",
              "  </thead>\n",
              "  <tbody>\n",
              "    <tr>\n",
              "      <th>0</th>\n",
              "      <td>Premalatha-success</td>\n",
              "      <td>Premalatha-success/charts</td>\n",
              "      <td>2024-10-27T12:36:59Z</td>\n",
              "      <td>0</td>\n",
              "      <td>1</td>\n",
              "      <td>NaN</td>\n",
              "      <td>True</td>\n",
              "      <td>True</td>\n",
              "      <td>NaN</td>\n",
              "    </tr>\n",
              "    <tr>\n",
              "      <th>1</th>\n",
              "      <td>Premalatha-success</td>\n",
              "      <td>Premalatha-success/powerbi_webinar</td>\n",
              "      <td>2024-10-25T16:25:13Z</td>\n",
              "      <td>0</td>\n",
              "      <td>1</td>\n",
              "      <td>NaN</td>\n",
              "      <td>True</td>\n",
              "      <td>True</td>\n",
              "      <td>NaN</td>\n",
              "    </tr>\n",
              "    <tr>\n",
              "      <th>2</th>\n",
              "      <td>Premalatha-success</td>\n",
              "      <td>Premalatha-success/AIPM</td>\n",
              "      <td>2024-10-21T07:26:33Z</td>\n",
              "      <td>0</td>\n",
              "      <td>1</td>\n",
              "      <td>Jupyter Notebook</td>\n",
              "      <td>True</td>\n",
              "      <td>True</td>\n",
              "      <td>NaN</td>\n",
              "    </tr>\n",
              "    <tr>\n",
              "      <th>3</th>\n",
              "      <td>Premalatha-success</td>\n",
              "      <td>Premalatha-success/ML_syn</td>\n",
              "      <td>2024-10-14T08:26:26Z</td>\n",
              "      <td>0</td>\n",
              "      <td>1</td>\n",
              "      <td>Jupyter Notebook</td>\n",
              "      <td>True</td>\n",
              "      <td>True</td>\n",
              "      <td>NaN</td>\n",
              "    </tr>\n",
              "    <tr>\n",
              "      <th>4</th>\n",
              "      <td>Premalatha-success</td>\n",
              "      <td>Premalatha-success/sql</td>\n",
              "      <td>2024-10-06T14:29:46Z</td>\n",
              "      <td>0</td>\n",
              "      <td>1</td>\n",
              "      <td>NaN</td>\n",
              "      <td>True</td>\n",
              "      <td>True</td>\n",
              "      <td>NaN</td>\n",
              "    </tr>\n",
              "  </tbody>\n",
              "</table>\n",
              "</div>\n",
              "    <div class=\"colab-df-buttons\">\n",
              "\n",
              "  <div class=\"colab-df-container\">\n",
              "    <button class=\"colab-df-convert\" onclick=\"convertToInteractive('df-5e265f6c-7c1b-4fc0-9d47-df361e183cdd')\"\n",
              "            title=\"Convert this dataframe to an interactive table.\"\n",
              "            style=\"display:none;\">\n",
              "\n",
              "  <svg xmlns=\"http://www.w3.org/2000/svg\" height=\"24px\" viewBox=\"0 -960 960 960\">\n",
              "    <path d=\"M120-120v-720h720v720H120Zm60-500h600v-160H180v160Zm220 220h160v-160H400v160Zm0 220h160v-160H400v160ZM180-400h160v-160H180v160Zm440 0h160v-160H620v160ZM180-180h160v-160H180v160Zm440 0h160v-160H620v160Z\"/>\n",
              "  </svg>\n",
              "    </button>\n",
              "\n",
              "  <style>\n",
              "    .colab-df-container {\n",
              "      display:flex;\n",
              "      gap: 12px;\n",
              "    }\n",
              "\n",
              "    .colab-df-convert {\n",
              "      background-color: #E8F0FE;\n",
              "      border: none;\n",
              "      border-radius: 50%;\n",
              "      cursor: pointer;\n",
              "      display: none;\n",
              "      fill: #1967D2;\n",
              "      height: 32px;\n",
              "      padding: 0 0 0 0;\n",
              "      width: 32px;\n",
              "    }\n",
              "\n",
              "    .colab-df-convert:hover {\n",
              "      background-color: #E2EBFA;\n",
              "      box-shadow: 0px 1px 2px rgba(60, 64, 67, 0.3), 0px 1px 3px 1px rgba(60, 64, 67, 0.15);\n",
              "      fill: #174EA6;\n",
              "    }\n",
              "\n",
              "    .colab-df-buttons div {\n",
              "      margin-bottom: 4px;\n",
              "    }\n",
              "\n",
              "    [theme=dark] .colab-df-convert {\n",
              "      background-color: #3B4455;\n",
              "      fill: #D2E3FC;\n",
              "    }\n",
              "\n",
              "    [theme=dark] .colab-df-convert:hover {\n",
              "      background-color: #434B5C;\n",
              "      box-shadow: 0px 1px 3px 1px rgba(0, 0, 0, 0.15);\n",
              "      filter: drop-shadow(0px 1px 2px rgba(0, 0, 0, 0.3));\n",
              "      fill: #FFFFFF;\n",
              "    }\n",
              "  </style>\n",
              "\n",
              "    <script>\n",
              "      const buttonEl =\n",
              "        document.querySelector('#df-5e265f6c-7c1b-4fc0-9d47-df361e183cdd button.colab-df-convert');\n",
              "      buttonEl.style.display =\n",
              "        google.colab.kernel.accessAllowed ? 'block' : 'none';\n",
              "\n",
              "      async function convertToInteractive(key) {\n",
              "        const element = document.querySelector('#df-5e265f6c-7c1b-4fc0-9d47-df361e183cdd');\n",
              "        const dataTable =\n",
              "          await google.colab.kernel.invokeFunction('convertToInteractive',\n",
              "                                                    [key], {});\n",
              "        if (!dataTable) return;\n",
              "\n",
              "        const docLinkHtml = 'Like what you see? Visit the ' +\n",
              "          '<a target=\"_blank\" href=https://colab.research.google.com/notebooks/data_table.ipynb>data table notebook</a>'\n",
              "          + ' to learn more about interactive tables.';\n",
              "        element.innerHTML = '';\n",
              "        dataTable['output_type'] = 'display_data';\n",
              "        await google.colab.output.renderOutput(dataTable, element);\n",
              "        const docLink = document.createElement('div');\n",
              "        docLink.innerHTML = docLinkHtml;\n",
              "        element.appendChild(docLink);\n",
              "      }\n",
              "    </script>\n",
              "  </div>\n",
              "\n",
              "\n",
              "<div id=\"df-c178fece-b17e-4f4f-bec8-6fab1db3fc7f\">\n",
              "  <button class=\"colab-df-quickchart\" onclick=\"quickchart('df-c178fece-b17e-4f4f-bec8-6fab1db3fc7f')\"\n",
              "            title=\"Suggest charts\"\n",
              "            style=\"display:none;\">\n",
              "\n",
              "<svg xmlns=\"http://www.w3.org/2000/svg\" height=\"24px\"viewBox=\"0 0 24 24\"\n",
              "     width=\"24px\">\n",
              "    <g>\n",
              "        <path d=\"M19 3H5c-1.1 0-2 .9-2 2v14c0 1.1.9 2 2 2h14c1.1 0 2-.9 2-2V5c0-1.1-.9-2-2-2zM9 17H7v-7h2v7zm4 0h-2V7h2v10zm4 0h-2v-4h2v4z\"/>\n",
              "    </g>\n",
              "</svg>\n",
              "  </button>\n",
              "\n",
              "<style>\n",
              "  .colab-df-quickchart {\n",
              "      --bg-color: #E8F0FE;\n",
              "      --fill-color: #1967D2;\n",
              "      --hover-bg-color: #E2EBFA;\n",
              "      --hover-fill-color: #174EA6;\n",
              "      --disabled-fill-color: #AAA;\n",
              "      --disabled-bg-color: #DDD;\n",
              "  }\n",
              "\n",
              "  [theme=dark] .colab-df-quickchart {\n",
              "      --bg-color: #3B4455;\n",
              "      --fill-color: #D2E3FC;\n",
              "      --hover-bg-color: #434B5C;\n",
              "      --hover-fill-color: #FFFFFF;\n",
              "      --disabled-bg-color: #3B4455;\n",
              "      --disabled-fill-color: #666;\n",
              "  }\n",
              "\n",
              "  .colab-df-quickchart {\n",
              "    background-color: var(--bg-color);\n",
              "    border: none;\n",
              "    border-radius: 50%;\n",
              "    cursor: pointer;\n",
              "    display: none;\n",
              "    fill: var(--fill-color);\n",
              "    height: 32px;\n",
              "    padding: 0;\n",
              "    width: 32px;\n",
              "  }\n",
              "\n",
              "  .colab-df-quickchart:hover {\n",
              "    background-color: var(--hover-bg-color);\n",
              "    box-shadow: 0 1px 2px rgba(60, 64, 67, 0.3), 0 1px 3px 1px rgba(60, 64, 67, 0.15);\n",
              "    fill: var(--button-hover-fill-color);\n",
              "  }\n",
              "\n",
              "  .colab-df-quickchart-complete:disabled,\n",
              "  .colab-df-quickchart-complete:disabled:hover {\n",
              "    background-color: var(--disabled-bg-color);\n",
              "    fill: var(--disabled-fill-color);\n",
              "    box-shadow: none;\n",
              "  }\n",
              "\n",
              "  .colab-df-spinner {\n",
              "    border: 2px solid var(--fill-color);\n",
              "    border-color: transparent;\n",
              "    border-bottom-color: var(--fill-color);\n",
              "    animation:\n",
              "      spin 1s steps(1) infinite;\n",
              "  }\n",
              "\n",
              "  @keyframes spin {\n",
              "    0% {\n",
              "      border-color: transparent;\n",
              "      border-bottom-color: var(--fill-color);\n",
              "      border-left-color: var(--fill-color);\n",
              "    }\n",
              "    20% {\n",
              "      border-color: transparent;\n",
              "      border-left-color: var(--fill-color);\n",
              "      border-top-color: var(--fill-color);\n",
              "    }\n",
              "    30% {\n",
              "      border-color: transparent;\n",
              "      border-left-color: var(--fill-color);\n",
              "      border-top-color: var(--fill-color);\n",
              "      border-right-color: var(--fill-color);\n",
              "    }\n",
              "    40% {\n",
              "      border-color: transparent;\n",
              "      border-right-color: var(--fill-color);\n",
              "      border-top-color: var(--fill-color);\n",
              "    }\n",
              "    60% {\n",
              "      border-color: transparent;\n",
              "      border-right-color: var(--fill-color);\n",
              "    }\n",
              "    80% {\n",
              "      border-color: transparent;\n",
              "      border-right-color: var(--fill-color);\n",
              "      border-bottom-color: var(--fill-color);\n",
              "    }\n",
              "    90% {\n",
              "      border-color: transparent;\n",
              "      border-bottom-color: var(--fill-color);\n",
              "    }\n",
              "  }\n",
              "</style>\n",
              "\n",
              "  <script>\n",
              "    async function quickchart(key) {\n",
              "      const quickchartButtonEl =\n",
              "        document.querySelector('#' + key + ' button');\n",
              "      quickchartButtonEl.disabled = true;  // To prevent multiple clicks.\n",
              "      quickchartButtonEl.classList.add('colab-df-spinner');\n",
              "      try {\n",
              "        const charts = await google.colab.kernel.invokeFunction(\n",
              "            'suggestCharts', [key], {});\n",
              "      } catch (error) {\n",
              "        console.error('Error during call to suggestCharts:', error);\n",
              "      }\n",
              "      quickchartButtonEl.classList.remove('colab-df-spinner');\n",
              "      quickchartButtonEl.classList.add('colab-df-quickchart-complete');\n",
              "    }\n",
              "    (() => {\n",
              "      let quickchartButtonEl =\n",
              "        document.querySelector('#df-c178fece-b17e-4f4f-bec8-6fab1db3fc7f button');\n",
              "      quickchartButtonEl.style.display =\n",
              "        google.colab.kernel.accessAllowed ? 'block' : 'none';\n",
              "    })();\n",
              "  </script>\n",
              "</div>\n",
              "\n",
              "    </div>\n",
              "  </div>\n"
            ],
            "application/vnd.google.colaboratory.intrinsic+json": {
              "type": "dataframe",
              "variable_name": "repositories_df",
              "summary": "{\n  \"name\": \"repositories_df\",\n  \"rows\": 28516,\n  \"fields\": [\n    {\n      \"column\": \"login\",\n      \"properties\": {\n        \"dtype\": \"category\",\n        \"num_unique_values\": 417,\n        \"samples\": [\n          \"khaleeljageer\",\n          \"valarpirai\",\n          \"RAJAGOPALAN-GANGADHARAN\"\n        ],\n        \"semantic_type\": \"\",\n        \"description\": \"\"\n      }\n    },\n    {\n      \"column\": \"full_name\",\n      \"properties\": {\n        \"dtype\": \"string\",\n        \"num_unique_values\": 28343,\n        \"samples\": [\n          \"Premalatha-success/Projects\",\n          \"fidisys/android-invoice-generator\",\n          \"sundararajana/NetLogoNashornExample\"\n        ],\n        \"semantic_type\": \"\",\n        \"description\": \"\"\n      }\n    },\n    {\n      \"column\": \"created_at\",\n      \"properties\": {\n        \"dtype\": \"object\",\n        \"num_unique_values\": 28342,\n        \"samples\": [\n          \"2014-08-08T04:17:20Z\",\n          \"2022-08-13T01:52:39Z\",\n          \"2016-07-24T07:21:33Z\"\n        ],\n        \"semantic_type\": \"\",\n        \"description\": \"\"\n      }\n    },\n    {\n      \"column\": \"stargazers_count\",\n      \"properties\": {\n        \"dtype\": \"number\",\n        \"std\": 103,\n        \"min\": 0,\n        \"max\": 8433,\n        \"num_unique_values\": 278,\n        \"samples\": [\n          106,\n          624,\n          2452\n        ],\n        \"semantic_type\": \"\",\n        \"description\": \"\"\n      }\n    },\n    {\n      \"column\": \"watchers_count\",\n      \"properties\": {\n        \"dtype\": \"number\",\n        \"std\": 14,\n        \"min\": 0,\n        \"max\": 1677,\n        \"num_unique_values\": 64,\n        \"samples\": [\n          60,\n          142,\n          1\n        ],\n        \"semantic_type\": \"\",\n        \"description\": \"\"\n      }\n    },\n    {\n      \"column\": \"language\",\n      \"properties\": {\n        \"dtype\": \"category\",\n        \"num_unique_values\": 148,\n        \"samples\": [\n          \"Jinja\",\n          \"Emacs Lisp\",\n          \"Nginx\"\n        ],\n        \"semantic_type\": \"\",\n        \"description\": \"\"\n      }\n    },\n    {\n      \"column\": \"has_projects\",\n      \"properties\": {\n        \"dtype\": \"boolean\",\n        \"num_unique_values\": 2,\n        \"samples\": [\n          false,\n          true\n        ],\n        \"semantic_type\": \"\",\n        \"description\": \"\"\n      }\n    },\n    {\n      \"column\": \"has_wiki\",\n      \"properties\": {\n        \"dtype\": \"boolean\",\n        \"num_unique_values\": 2,\n        \"samples\": [\n          false,\n          true\n        ],\n        \"semantic_type\": \"\",\n        \"description\": \"\"\n      }\n    },\n    {\n      \"column\": \"license_name\",\n      \"properties\": {\n        \"dtype\": \"category\",\n        \"num_unique_values\": 30,\n        \"samples\": [\n          \"zlib\",\n          \"cc-by-4.0\"\n        ],\n        \"semantic_type\": \"\",\n        \"description\": \"\"\n      }\n    }\n  ]\n}"
            }
          },
          "metadata": {},
          "execution_count": 129
        }
      ]
    },
    {
      "cell_type": "markdown",
      "source": [
        "Question 1: Who are the top 5 users in Chennai with the highest number of followers? List their login in order, comma-separated."
      ],
      "metadata": {
        "id": "0bDwZQRijey8"
      }
    },
    {
      "cell_type": "code",
      "source": [
        "# Top Users by Followers\n",
        "def get_top_users_by_followers(users_df, top_n=5):\n",
        "    \"\"\"\n",
        "    Retrieves the top users sorted by the number of followers.\n",
        "\n",
        "    Args:\n",
        "        users_df (DataFrame): A DataFrame containing user data.\n",
        "        top_n (int): The number of top users to retrieve (default is 5).\n",
        "\n",
        "    Returns:\n",
        "        str: A comma-separated string of the top user logins based on number of followers.\n",
        "    \"\"\"\n",
        "    # Sort users by the 'followers' column in descending order\n",
        "    sorted_users = users_df.sort_values(by='followers', ascending=False)\n",
        "\n",
        "    # Select the top N users\n",
        "    top_users = sorted_users.head(top_n)\n",
        "\n",
        "    # Extract the 'login' column and join them into a comma-separated string\n",
        "    top_user_logins = top_users['login'].tolist()\n",
        "    return ','.join(top_user_logins)\n",
        "\n",
        "print(get_top_users_by_followers(users_df, top_n=5))\n"
      ],
      "metadata": {
        "colab": {
          "base_uri": "https://localhost:8080/"
        },
        "id": "0jmtoO-olAcp",
        "outputId": "e4348e0e-054f-4f6d-dd9b-7f425b8b1272"
      },
      "execution_count": 130,
      "outputs": [
        {
          "output_type": "stream",
          "name": "stdout",
          "text": [
            "Premalatha-success,anitaa1990,codewithMUHILAN,sygops,Spikeysanju\n"
          ]
        }
      ]
    },
    {
      "cell_type": "markdown",
      "source": [
        "2. Who are the 5 earliest registered GitHub users in Chennai? List their login in ascending order of created_at, comma-separated."
      ],
      "metadata": {
        "id": "SUunZMJ-lgYW"
      }
    },
    {
      "cell_type": "code",
      "source": [
        "# Top Users by Creation Date\n",
        "def get_top_users_by_creation_date(users_df, top_n=5):\n",
        "    \"\"\"\n",
        "    Retrieves the top users sorted by the creation date.\n",
        "\n",
        "    Args:\n",
        "        users_df (DataFrame): A DataFrame containing user data.\n",
        "        top_n (int): The number of top users to retrieve (default is 5).\n",
        "\n",
        "    Returns:\n",
        "        str: A comma-separated string of the top user logins based on creation date.\n",
        "    \"\"\"\n",
        "    # Ensure 'created_at' is a datetime object for proper sorting\n",
        "    users_df['created_at'] = pd.to_datetime(users_df['created_at'])\n",
        "\n",
        "    # Sort users by the 'created_at' column in ascending order\n",
        "    sorted_users = users_df.sort_values(by='created_at')\n",
        "\n",
        "    # Select the top N users\n",
        "    top_users = sorted_users.head(top_n)\n",
        "\n",
        "    # Extract the 'login' column and join them into a comma-separated string\n",
        "    top_user_logins = top_users['login'].tolist()\n",
        "    return ','.join(top_user_logins)\n",
        "\n",
        "print(get_top_users_by_creation_date(users_df, top_n=5))\n"
      ],
      "metadata": {
        "colab": {
          "base_uri": "https://localhost:8080/"
        },
        "id": "QVtYmqHcljpa",
        "outputId": "b665a339-50d8-4883-a9f4-3a75d902e100"
      },
      "execution_count": 131,
      "outputs": [
        {
          "output_type": "stream",
          "name": "stdout",
          "text": [
            "cnu,railsfactory,sudhirj,ravijaya,badri\n"
          ]
        }
      ]
    },
    {
      "cell_type": "markdown",
      "source": [
        "3. What are the 3 most popular license among these users? Ignore missing licenses. List the license_name in order, comma-separated."
      ],
      "metadata": {
        "id": "eT6i-UUnl9rU"
      }
    },
    {
      "cell_type": "code",
      "source": [
        "def get_most_popular_repo_licenses(repositories_df, top_n=3):\n",
        "    \"\"\"\n",
        "    Retrieves the most popular licenses among repositories.\n",
        "\n",
        "    Args:\n",
        "        repositories_df (DataFrame): A DataFrame containing repository data.\n",
        "        top_n (int): The number of top licenses to retrieve (default is 3).\n",
        "\n",
        "    Returns:\n",
        "        str: A comma-separated string of the most popular license names.\n",
        "    \"\"\"\n",
        "    # Filter out rows with missing license names\n",
        "    filtered_repos = repositories_df[repositories_df['license_name'] != '']\n",
        "\n",
        "    # Count occurrences of each license\n",
        "    license_counts = filtered_repos['license_name'].value_counts()\n",
        "\n",
        "    # Get the top N licenses\n",
        "    top_licenses = license_counts.head(top_n)\n",
        "\n",
        "    # Join the license names into a comma-separated string\n",
        "    return ','.join(top_licenses.index)\n",
        "\n",
        "# Print the result for the most popular licenses from repositories\n",
        "print(get_most_popular_repo_licenses(repositories_df, top_n=3))\n"
      ],
      "metadata": {
        "colab": {
          "base_uri": "https://localhost:8080/"
        },
        "id": "33TgT-Hal7ri",
        "outputId": "1f8b3401-33bc-4ea3-ff74-b79a2f648335"
      },
      "execution_count": 132,
      "outputs": [
        {
          "output_type": "stream",
          "name": "stdout",
          "text": [
            "mit,apache-2.0,other\n"
          ]
        }
      ]
    },
    {
      "cell_type": "markdown",
      "source": [
        "4. Which company do the majority of these developers work at?"
      ],
      "metadata": {
        "id": "ACtehGKppVmT"
      }
    },
    {
      "cell_type": "code",
      "source": [
        "company_with_max_users = users_df['company'].value_counts().idxmax()\n",
        "print(company_with_max_users)"
      ],
      "metadata": {
        "colab": {
          "base_uri": "https://localhost:8080/"
        },
        "id": "MdJSYoZOo5H3",
        "outputId": "c6347c9b-aab1-485d-909a-1b34d343f9ae"
      },
      "execution_count": 133,
      "outputs": [
        {
          "output_type": "stream",
          "name": "stdout",
          "text": [
            "THOUGHTWORKS\n"
          ]
        }
      ]
    },
    {
      "cell_type": "markdown",
      "source": [
        "5. Which programming language is most popular among these users?"
      ],
      "metadata": {
        "id": "PBHX-YNDpa0s"
      }
    },
    {
      "cell_type": "code",
      "source": [
        "most_popular_language = repositories_df['language'].value_counts().idxmax()\n",
        "print(most_popular_language)"
      ],
      "metadata": {
        "colab": {
          "base_uri": "https://localhost:8080/"
        },
        "id": "7nFfhJF0pcVe",
        "outputId": "df59ecc1-d2ad-46fe-affc-407c06529bd0"
      },
      "execution_count": 134,
      "outputs": [
        {
          "output_type": "stream",
          "name": "stdout",
          "text": [
            "JavaScript\n"
          ]
        }
      ]
    },
    {
      "cell_type": "markdown",
      "source": [
        "6. Which programming language is the second most popular among users who joined after 2020?"
      ],
      "metadata": {
        "id": "CCbcQXAHqlU-"
      }
    },
    {
      "cell_type": "code",
      "source": [
        "# Convert the 'created_at' column to datetime\n",
        "users_df['created_at'] = pd.to_datetime(users_df['created_at'])\n",
        "\n",
        "# Filter for users who joined after January 1, 2020\n",
        "# In regards to the interpretation of the year (2020 vs 2021), question is slightly ambigous;refer to discourse threads)\n",
        "filtered_users_df = users_df[users_df['created_at'] > '2020-01-01']\n",
        "\n",
        "# Merge the users DataFrame with the repositories DataFrame\n",
        "merged_df = pd.merge(filtered_users_df, repositories_df, on='login')\n",
        "\n",
        "# Count the occurrences of each programming language for filtered users\n",
        "language_counts = merged_df['language'].value_counts()\n",
        "\n",
        "# Identify the second most popular programming language\n",
        "# Check if there are at least two languages present\n",
        "if len(language_counts) >= 2:\n",
        "    second_most_popular_language = language_counts.index[1]\n",
        "else:\n",
        "    # For our datasets, we do not expect the following line to execute\n",
        "    second_most_popular_language = None\n",
        "\n",
        "print(second_most_popular_language)\n",
        ""
      ],
      "metadata": {
        "colab": {
          "base_uri": "https://localhost:8080/"
        },
        "id": "Gu8Euw8Bp-t3",
        "outputId": "91436211-a8d4-4724-b4a3-105d830c94b2"
      },
      "execution_count": 135,
      "outputs": [
        {
          "output_type": "stream",
          "name": "stdout",
          "text": [
            "Python\n"
          ]
        }
      ]
    },
    {
      "cell_type": "markdown",
      "source": [
        "7. Which language has the highest average number of stars per repository?"
      ],
      "metadata": {
        "id": "sOYoFIhkraa6"
      }
    },
    {
      "cell_type": "code",
      "source": [
        "# Group by programming language and calculate the average number of stars\n",
        "average_stars_per_language = repositories_df.groupby('language')['stargazers_count'].mean()\n",
        "\n",
        "# Identify the language with the highest average number of stars\n",
        "highest_average_language = average_stars_per_language.idxmax()\n",
        "\n",
        "print(highest_average_language)"
      ],
      "metadata": {
        "colab": {
          "base_uri": "https://localhost:8080/"
        },
        "id": "l-4F6MZWqyTx",
        "outputId": "59f4e2b4-b400-4981-fcc3-5d4a32a3de09"
      },
      "execution_count": 136,
      "outputs": [
        {
          "output_type": "stream",
          "name": "stdout",
          "text": [
            "Vala\n"
          ]
        }
      ]
    },
    {
      "cell_type": "markdown",
      "source": [
        "8. Let's define leader_strength as followers / (1 + following). Who are the top 5 in terms of leader_strength? List their login in order, comma-separated."
      ],
      "metadata": {
        "id": "SE6woHJ9rRiA"
      }
    },
    {
      "cell_type": "code",
      "source": [
        "# Calculate leader_strength\n",
        "users_df['leader_strength'] = users_df['followers'] / (1 + users_df['following'])\n",
        "\n",
        "# Get the top 5 users by leader_strength\n",
        "top_leaders = users_df.nlargest(5, 'leader_strength')['login']\n",
        "\n",
        "# Convert the list of logins to a comma-separated string\n",
        "top_leaders_list = ','.join(top_leaders)\n",
        "\n",
        "print(top_leaders_list)"
      ],
      "metadata": {
        "colab": {
          "base_uri": "https://localhost:8080/"
        },
        "id": "FS1shn7LrEGU",
        "outputId": "80e18aef-b552-4096-b991-a2d8e65c8629"
      },
      "execution_count": 137,
      "outputs": [
        {
          "output_type": "stream",
          "name": "stdout",
          "text": [
            "codewithMUHILAN,Premalatha-success,aswintechguy,manikandanraji,jaganjavid\n"
          ]
        }
      ]
    },
    {
      "cell_type": "markdown",
      "source": [
        "9. What is the correlation between the number of followers and the number of public repositories among users in Chennai?"
      ],
      "metadata": {
        "id": "lgTPZLv4rqQM"
      }
    },
    {
      "cell_type": "code",
      "source": [
        "# Calculate the correlation between followers and public repositories\n",
        "correlation = users_df['followers'].corr(users_df['public_repos'])\n",
        "\n",
        "# Print the correlation rounded to three decimal places\n",
        "print(f\"{correlation:.3f}\")"
      ],
      "metadata": {
        "colab": {
          "base_uri": "https://localhost:8080/"
        },
        "id": "mi4ptUEmrqnW",
        "outputId": "b554f62a-4059-4648-b126-e9439592e0d6"
      },
      "execution_count": 138,
      "outputs": [
        {
          "output_type": "stream",
          "name": "stdout",
          "text": [
            "0.078\n"
          ]
        }
      ]
    },
    {
      "cell_type": "markdown",
      "source": [
        "10. Does creating more repos help users get more followers? Using regression, estimate how many additional followers a user gets per additional public repository."
      ],
      "metadata": {
        "id": "7nCeVT3csWEa"
      }
    },
    {
      "cell_type": "code",
      "source": [
        "import statsmodels.api as sm\n",
        "\n",
        "# Prepare the data for regression\n",
        "# Create the independent variable (x) and dependent variable (y)\n",
        "x = users_df['public_repos']\n",
        "y = users_df['followers']\n",
        "\n",
        "# Add a constant to the independent variable for the intercept\n",
        "x = sm.add_constant(x)\n",
        "\n",
        "# Perform linear regression\n",
        "model = sm.OLS(y, x).fit()\n",
        "\n",
        "# Get the slope of the regression\n",
        "slope = model.params['public_repos']\n",
        "\n",
        "# Print the slope rounded to three decimal places\n",
        "print( f\"{slope:.3f}\")\n"
      ],
      "metadata": {
        "colab": {
          "base_uri": "https://localhost:8080/"
        },
        "id": "dGv34ynqsXD9",
        "outputId": "0aeb90b5-0ddf-4daa-9d6f-df57bd5eda58"
      },
      "execution_count": 139,
      "outputs": [
        {
          "output_type": "stream",
          "name": "stdout",
          "text": [
            "0.269\n"
          ]
        }
      ]
    },
    {
      "cell_type": "markdown",
      "source": [
        "11. Do people typically enable projects and wikis together? What is the correlation between a repo having projects enabled and having wiki enabled?"
      ],
      "metadata": {
        "id": "UD3IscVes2Bw"
      }
    },
    {
      "cell_type": "code",
      "source": [
        "# Convert 'has_projects' and 'has_wiki' from boolean to integers (1/0) for correlation calculation\n",
        "repositories_df['has_projects'] = repositories_df['has_projects'].astype(int)\n",
        "repositories_df['has_wiki'] = repositories_df['has_wiki'].astype(int)\n",
        "\n",
        "# Calculate the correlation\n",
        "correlation = repositories_df['has_projects'].corr(repositories_df['has_wiki'])\n",
        "\n",
        "# Print the correlation rounded to three decimal places\n",
        "print(f\"{correlation:.3f}\")"
      ],
      "metadata": {
        "colab": {
          "base_uri": "https://localhost:8080/"
        },
        "id": "VeBjCVGls4tq",
        "outputId": "18b8cb20-85b7-46ac-9b89-3badd87e44de"
      },
      "execution_count": 140,
      "outputs": [
        {
          "output_type": "stream",
          "name": "stdout",
          "text": [
            "0.246\n"
          ]
        }
      ]
    },
    {
      "cell_type": "markdown",
      "source": [
        "12. Do hireable users follow more people than those who are not hireable?\n",
        "Average of following per user for hireable=true minus the average following for the rest (to 3 decimal places, e.g. 12.345 or -12.345)"
      ],
      "metadata": {
        "id": "xbF66RgMtUDv"
      }
    },
    {
      "cell_type": "code",
      "source": [
        "# Calculate average following for hireable users\n",
        "average_following_hireable = users_df[users_df['hireable'] == True]['following'].mean()\n",
        "\n",
        "# Calculate average following for non-hireable users\n",
        "# Note: Ensured that all values in this column has a value of either True or False during the scraping process\n",
        "average_following_non_hireable = users_df[users_df['hireable'] == False]['following'].mean()\n",
        "\n",
        "# Calculate the difference\n",
        "difference = average_following_hireable - average_following_non_hireable\n",
        "\n",
        "# Print the difference rounded to three decimal places\n",
        "print(f\"{difference:.3f}\")"
      ],
      "metadata": {
        "colab": {
          "base_uri": "https://localhost:8080/"
        },
        "id": "uE3eIqXjtVPF",
        "outputId": "2d0bf6b3-662e-469a-f97f-7c926fbd9751"
      },
      "execution_count": 141,
      "outputs": [
        {
          "output_type": "stream",
          "name": "stdout",
          "text": [
            "241.107\n"
          ]
        }
      ]
    },
    {
      "cell_type": "markdown",
      "source": [
        "13. Some developers write long bios. Does that help them get more followers? What's the impact of the length of their bio (in Unicode words, split by whitespace) with followers? (Ignore people without bios)"
      ],
      "metadata": {
        "id": "YQo0_LlBxGNn"
      }
    },
    {
      "cell_type": "code",
      "source": [
        "from sklearn.linear_model import LinearRegression\n",
        "\n",
        "# Filter users with bios (ignore people without bios)\n",
        "bios = users_df[users_df['bio'].notna() & (users_df['bio'].str.strip() != '')]\n",
        "\n",
        "# Prepare the data for linear regression\n",
        "# Map bio length (in words) to followers\n",
        "x = bios['bio'].str.split().str.len().values.reshape(-1, 1)  # Bio lengths as a 2D array\n",
        "y = bios['followers'].values  # Followers as a 1D array\n",
        "\n",
        "# Perform linear regression\n",
        "model = LinearRegression()\n",
        "model.fit(x, y)\n",
        "\n",
        "# Get the slope (coefficient) of the regression line\n",
        "slope = model.coef_[0]\n",
        "\n",
        "# Print the slope rounded to three decimal places\n",
        "print(f\"{slope:.3f}\")"
      ],
      "metadata": {
        "colab": {
          "base_uri": "https://localhost:8080/"
        },
        "id": "ODAfvvW8xa4_",
        "outputId": "5e09c4f7-db17-4244-9c76-8ed3498a689a"
      },
      "execution_count": 142,
      "outputs": [
        {
          "output_type": "stream",
          "name": "stdout",
          "text": [
            "-1.674\n"
          ]
        }
      ]
    },
    {
      "cell_type": "code",
      "source": [],
      "metadata": {
        "id": "EX3V-xcgIhHL"
      },
      "execution_count": null,
      "outputs": []
    },
    {
      "cell_type": "markdown",
      "source": [
        "14. Who created the most repositories on weekends (UTC)? List the top 5 users' login in order, comma-separated"
      ],
      "metadata": {
        "id": "17aem_p9xMEy"
      }
    },
    {
      "cell_type": "code",
      "source": [
        "# Convert created_at to datetime and filter for weekends\n",
        "repositories_df['created_at'] = pd.to_datetime(repositories_df['created_at'])\n",
        "\n",
        "# Filter for Saturday (5) and Sunday (6)\n",
        "weekend_repos = repositories_df[repositories_df['created_at'].dt.dayofweek.isin([5, 6])]\n",
        "\n",
        "# Count the number of repositories created by each user\n",
        "repos_count = weekend_repos['login'].value_counts()\n",
        "\n",
        "# Get the top 5 users who created the most repositories on weekends\n",
        "top_weekend_users = repos_count.nlargest(5).index.tolist()\n",
        "\n",
        "# Format the output as a comma-separated string\n",
        "top_weekend_users_output = ','.join(top_weekend_users)\n",
        "print(top_weekend_users_output)"
      ],
      "metadata": {
        "colab": {
          "base_uri": "https://localhost:8080/"
        },
        "id": "OGH8GMrOxP52",
        "outputId": "8f0a9080-e985-4287-cf98-f24822618894"
      },
      "execution_count": 143,
      "outputs": [
        {
          "output_type": "stream",
          "name": "stdout",
          "text": [
            "aasim-syed,nk-gears,karuppiah7890,rajasegar,TestLeafPages\n"
          ]
        }
      ]
    },
    {
      "cell_type": "markdown",
      "source": [
        "15. Do people who are hireable share their email addresses more often?"
      ],
      "metadata": {
        "id": "7ALQ6gx_xQ6k"
      }
    },
    {
      "cell_type": "code",
      "source": [
        "# Calculate total hireable users\n",
        "total_hireable = users_df[users_df['hireable'] == True].shape[0]\n",
        "\n",
        "# Calculate total hireable users with email\n",
        "hireable_with_email = users_df[users_df['hireable'] == True]['email'].notnull().sum()\n",
        "\n",
        "# Calculate total non-hireable users\n",
        "total_non_hireable = users_df[users_df['hireable'] == False].shape[0]\n",
        "\n",
        "# Calculate total non-hireable users with email\n",
        "non_hireable_with_email = users_df[users_df['hireable'] == False]['email'].notnull().sum()\n",
        "\n",
        "# Calculate fractions\n",
        "fraction_hireable_with_email = hireable_with_email / total_hireable if total_hireable > 0 else 0\n",
        "fraction_non_hireable_with_email = non_hireable_with_email / total_non_hireable if total_non_hireable > 0 else 0\n",
        "\n",
        "# Calculate the difference\n",
        "diff = fraction_hireable_with_email - fraction_non_hireable_with_email\n",
        "\n",
        "# Display the difference rounded to three decimal places\n",
        "print(f\"{diff:.3f}\")\n"
      ],
      "metadata": {
        "colab": {
          "base_uri": "https://localhost:8080/"
        },
        "id": "xwlxatqXxZWU",
        "outputId": "5fffbd5c-f903-4b48-a3bf-e8a7bf7eeb1f"
      },
      "execution_count": 144,
      "outputs": [
        {
          "output_type": "stream",
          "name": "stdout",
          "text": [
            "0.259\n"
          ]
        }
      ]
    },
    {
      "cell_type": "markdown",
      "source": [
        "16. Let's assume that the last word in a user's name is their surname (ignore missing names, trim and split by whitespace.) What's the most common surname? (If there's a tie, list them all, comma-separated, alphabetically)"
      ],
      "metadata": {
        "id": "oEmk4mF5xUdP"
      }
    },
    {
      "cell_type": "code",
      "source": [
        "from collections import Counter\n",
        "\n",
        "# Extract surnames and count occurrences\n",
        "# Filter out missing names\n",
        "valid_names = users_df['name'].dropna()\n",
        "\n",
        "# Extract surnames (last word in the name)\n",
        "surnames = valid_names.str.strip().str.split().str[-1]\n",
        "\n",
        "# Count occurrences of each surname\n",
        "surname_counts = Counter(surnames)\n",
        "\n",
        "# Find the maximum occurrence\n",
        "max_count = max(surname_counts.values())\n",
        "\n",
        "# Get the most common surnames (handles ties)\n",
        "most_common_surnames = sorted([surname for surname, count in surname_counts.items() if count == max_count])\n",
        "\n",
        "# Join them as a comma-separated string\n",
        "most_common_surnames_str = \",\".join(most_common_surnames)\n",
        "\n",
        "# Display the result\n",
        "print(f\"{most_common_surnames_str}\")"
      ],
      "metadata": {
        "colab": {
          "base_uri": "https://localhost:8080/"
        },
        "id": "1wLCVBEWtx3m",
        "outputId": "6aa661ec-71ce-4ec3-f18a-29f246b96b12"
      },
      "execution_count": 145,
      "outputs": [
        {
          "output_type": "stream",
          "name": "stdout",
          "text": [
            "S\n"
          ]
        }
      ]
    }
  ]
}
